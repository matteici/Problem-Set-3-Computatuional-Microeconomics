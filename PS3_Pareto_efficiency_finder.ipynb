{
 "cells": [
  {
   "cell_type": "code",
   "execution_count": 17,
   "metadata": {},
   "outputs": [],
   "source": [
    "import numpy as np"
   ]
  },
  {
   "cell_type": "code",
   "execution_count": 24,
   "metadata": {},
   "outputs": [],
   "source": [
    "u_1 = ['b','c','d' ,'a']\n",
    "u_2 = ['c','d','a' ,'b']\n",
    "u_3 = ['a','b','c' ,'d']\n",
    "u_4 = ['d','a','b' ,'c']\n",
    "\n",
    "def calculate_utilities(allocation, u_1=u_1, u_2=u_2, u_3=u_3, u_4=u_4):\n",
    "    util_lvl_1 = 4 - u_1.index(allocation[0])  \n",
    "    util_lvl_2 = 4 - u_2.index(allocation[1])  \n",
    "    util_lvl_3 = 4 - u_3.index(allocation[2])  \n",
    "    util_lvl_4 = 4 - u_4.index(allocation[3])  \n",
    "    return [util_lvl_1, util_lvl_2, util_lvl_3, util_lvl_4]"
   ]
  },
  {
   "cell_type": "code",
   "execution_count": 25,
   "metadata": {},
   "outputs": [],
   "source": [
    "def is_pareto_efficient(allocation, allocations):\n",
    "    \n",
    "    current_utilities = calculate_utilities(allocation)\n",
    "    \n",
    "    for alt_allocation in allocations:\n",
    "        if alt_allocation is allocation:\n",
    "            continue\n",
    "        \n",
    "        alt_utilities = calculate_utilities(alt_allocation)\n",
    "        \n",
    "        better_for_at_least_one = False\n",
    "        for i in range(4):\n",
    "            if alt_utilities[i] > current_utilities[i]:\n",
    "                better_for_at_least_one = True\n",
    "            if alt_utilities[i] < current_utilities[i]:\n",
    "                better_for_at_least_one = False\n",
    "                break  \n",
    "        \n",
    "        if better_for_at_least_one:\n",
    "            return False\n",
    "\n",
    "    return True"
   ]
  },
  {
   "cell_type": "code",
   "execution_count": 26,
   "metadata": {},
   "outputs": [],
   "source": [
    "def find_pareto_efficient_allocations():\n",
    "    items = ['a', 'b', 'c', 'd']\n",
    "    all_allocations = list(np.array(np.meshgrid(items, items, items, items)).T.reshape(-1, 4))\n",
    "    \n",
    "    valid_allocations = [allocation for allocation in all_allocations if len(set(allocation)) == 4]\n",
    "    \n",
    "    pareto_efficient_allocations = []\n",
    "    \n",
    "    for allocation in valid_allocations:\n",
    "        if is_pareto_efficient(allocation, valid_allocations):\n",
    "            pareto_efficient_allocations.append(allocation)\n",
    "    \n",
    "    return pareto_efficient_allocations\n"
   ]
  },
  {
   "cell_type": "code",
   "execution_count": 27,
   "metadata": {},
   "outputs": [
    {
     "name": "stdout",
     "output_type": "stream",
     "text": [
      "Pareto-efficient allocations:\n",
      "['b' 'c' 'a' 'd']\n"
     ]
    }
   ],
   "source": [
    "#excercise from problem set\n",
    "u_1 = ['b','c','d' ,'a']\n",
    "u_2 = ['c','d','a' ,'b']\n",
    "u_3 = ['a','b','c' ,'d']\n",
    "u_4 = ['d','a','b' ,'c']\n",
    "\n",
    "pareto_allocations = find_pareto_efficient_allocations()\n",
    "print(\"Pareto-efficient allocations:\")\n",
    "for allocation in pareto_allocations:\n",
    "    print(allocation)"
   ]
  },
  {
   "cell_type": "code",
   "execution_count": 28,
   "metadata": {},
   "outputs": [
    {
     "name": "stdout",
     "output_type": "stream",
     "text": [
      "Pareto-efficient allocations:\n",
      "['c' 'b' 'd' 'a']\n",
      "['c' 'd' 'a' 'b']\n",
      "['b' 'd' 'a' 'c']\n",
      "['d' 'b' 'a' 'c']\n",
      "['c' 'b' 'a' 'd']\n"
     ]
    }
   ],
   "source": [
    "#excercise from class to check it works\n",
    "u_1 = ['b', 'c', 'd', 'a']\n",
    "u_2 = ['b', 'd', 'a', 'c']\n",
    "u_3 = ['a', 'b', 'c', 'd']\n",
    "u_4 = ['b', 'c', 'a', 'd']\n",
    "\n",
    "def calculate_utilities(allocation, u_1=u_1, u_2=u_2, u_3=u_3, u_4=u_4):\n",
    "    util_lvl_1 = 4 - u_1.index(allocation[0])  \n",
    "    util_lvl_2 = 4 - u_2.index(allocation[1])  \n",
    "    util_lvl_3 = 4 - u_3.index(allocation[2])  \n",
    "    util_lvl_4 = 4 - u_4.index(allocation[3])  \n",
    "    return [util_lvl_1, util_lvl_2, util_lvl_3, util_lvl_4]\n",
    "\n",
    "pareto_allocations = find_pareto_efficient_allocations()\n",
    "print(\"Pareto-efficient allocations:\")\n",
    "for allocation in pareto_allocations:\n",
    "    print(allocation)\n"
   ]
  }
 ],
 "metadata": {
  "kernelspec": {
   "display_name": "Python 3",
   "language": "python",
   "name": "python3"
  },
  "language_info": {
   "codemirror_mode": {
    "name": "ipython",
    "version": 3
   },
   "file_extension": ".py",
   "mimetype": "text/x-python",
   "name": "python",
   "nbconvert_exporter": "python",
   "pygments_lexer": "ipython3",
   "version": "3.11.1"
  }
 },
 "nbformat": 4,
 "nbformat_minor": 2
}
